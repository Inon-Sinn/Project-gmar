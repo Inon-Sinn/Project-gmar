{
 "cells": [
  {
   "cell_type": "markdown",
   "metadata": {},
   "source": [
    "# Final Project - Questions of probability \n",
    " ## Bayes Rules"
   ]
  },
  {
   "cell_type": "markdown",
   "metadata": {},
   "source": [
    "### Question 1:\n",
    " "
   ]
  },
  {
   "cell_type": "markdown",
   "metadata": {},
   "source": [
    "**Question 1a:** what is the probability that Alvis had a identical twin brother?\n",
    "\n",
    "**Given Facts:**<br>\n",
    "1. The probability for a birth of not identical twins is $\\frac{1}{125}$\n",
    "2. The probability for a birth of identical twins is $\\frac{1}{300}$\n",
    "3. The probality for a boy or girl is $\\frac{1}{2}$\n",
    "\n",
    "Were going to use Bayes Rule to answer the question\n",
    "\n",
    "$P(A/B1,B2) = \\frac{P(B1/A,B2)*P(A/B2)}{P(B1,B2)}$\n",
    "\n",
    "- A - identical twin\n",
    "- B1 - a boy\n",
    "- B2 - twin\n",
    "\n",
    "$P(B1,B2)$ = (Prob. for a boy)*(Prob. for twins) = $\\frac{1}{2}*(\\frac{1}{125}+\\frac{1}{300}) = \\frac{17}{3000} $\n",
    "\n",
    "$P(A/B2)$ =$\\frac{identicaltwins}{twins}$ = $\\frac{\\frac{1}{300}}{\\frac{1}{125}+\\frac{1}{300}}$ = $\\frac{5}{17}$\n",
    "\n",
    "$P(B1/A,B2)$ = (Prob. for a boy)*P(A,B2) = $\\frac{1}{2}*(P(A/B2)*P(B2)$=$\\frac{1}{2}(\\frac{5}{17}(\\frac{1}{125}+\\frac{1}{300}))$ = $\\frac{1}{2}(\\frac{5}{17}*\\frac{17}{1500})$ = $\\frac{1}{600}$\n",
    "\n",
    "$P(A/B1,B2)$ = $\\frac{P(B1/A,B2)*P(A/B2)}{P(B1/B2)}$ = $\\frac{\\frac{1}{600}*\\frac{5}{17}}{\\frac{17}{3000}}$ = $\\frac{25}{289}$\n",
    "\n",
    "\n",
    "**Question 1b:** what is the probability that Eric choose the 1 Bowl if he choose an bowl at random and took from it a cookie at random?\n",
    "\n",
    "**Given Facts**\n",
    "\n",
    "| cookies Type | Bowl 1 | Bowl 2 |\n",
    "| --- | --- | --- |\n",
    "|chocolate|30|20|\n",
    "|tonsils|10|20|\n",
    "\n",
    "- The Bowl was chossn at Random = $\\frac{1}{2}$<br>\n",
    "- The Chosen cookie was a chocolate cookie\n",
    "\n",
    "Were going to use Bayes Rule to answer the question\n",
    "\n",
    "$P(A/B) = \\frac{P(B/A)*P(A)}{P(B)}$\n",
    "\n",
    "- A - Bowl 1\n",
    "- B - choose a chocolate cookie\n",
    "\n",
    "$P(A)$ = $\\frac{1}{2}$ - The Bowl was chosen at random\n",
    "\n",
    "$P(B)$ = P(B/Bowl 1)P(Bowl 1) + P(B/Bowl 2)P(Bowl 2)= $\\frac{1}{4}*\\frac{1}{2} +\\frac{1}{2}*\\frac{1}{2} = \\frac{5}{8}$\n",
    "\n",
    "$P(B/A)$ = $\\frac{3}{4}$ - there are 30 chocolate cookies in Bowl 1 which has 40 cookies in total\n",
    "\n",
    "$P(A/B)$ = $\\frac{P(B/A)*P(A)}{P(B)}$ = $\\frac{\\frac{3}{4}*\\frac{1}{2}}{\\frac{5}{8}} = \\frac{3}{5}$"
   ]
  },
  {
   "cell_type": "markdown",
   "metadata": {},
   "source": [
    "### Question 2:"
   ]
  },
  {
   "cell_type": "markdown",
   "metadata": {},
   "source": [
    "**Question:** what is the probabilty the yellow cand you got is from the M&M bag of 1994 \n",
    "\n",
    "**Given Facts**\n",
    "- The M&M bages have changed in 1995\n",
    "- Your friend has 2 bags of M&M one from 1994 and the second one from 1996\n",
    "- your friend gave you 2 candys one from each bag ,one green and the second yellow while its unknow to you from which bag they originate from\n",
    "- the next table shows the probability to get each color of candy from each bag\n",
    "- the probality to choose one of the bags is 0.5\n",
    "\n",
    "|Color of Candy|1994|1996|\n",
    "| --- | --- | --- |\n",
    "|Orange|0.1|0.14|\n",
    "|Green|0.1|0.16|\n",
    "|Red|0.2|0.13|\n",
    "|Yellow|0.2|0.14|\n",
    "|Brown|0.3|0.13|\n",
    "|Blue|0|0.24|\n",
    "|Tan|0.1|0|\n",
    "\n",
    "- X = the probality the yellow candy you got is from the bag of year 1994\n",
    "- yellow = probality to get yellow candy\n",
    "- yellow1994 = probality to get yellow candy from the 1994 bag \n",
    "- 1994 = the bag of year 1994\n",
    "- 1996 = the bag of year 1996\n",
    "\n",
    "$P(X)= \\frac{P(yellow1994)}{yellow}$\n",
    "\n",
    "$P(yellow1994) = P(yellow/1994)*P(1994) = 0.2*0.5 = 0.1$\n",
    "\n",
    "$P(yellow) = P(yellow/1994)*P(1994) + P(yellow/1996)*P(1996) = 0.2*0.5 + 0.14*.5 = 0.17$\n",
    "\n",
    "$P(X)= \\frac{P(yellow1994)}{yellow} = \\frac{0.1}{0.17} = 0.5882$"
   ]
  },
  {
   "cell_type": "markdown",
   "metadata": {},
   "source": [
    "### Question 3:"
   ]
  },
  {
   "cell_type": "markdown",
   "metadata": {},
   "source": [
    "**Question 3a:**what is the probality you have Swine influenza\n",
    "\n",
    "**Given Facts**\n",
    "- The probabilty somone random is sick is 1 in 10000, $P(sick) = \\frac{1}{10000}$\n",
    "- Out of 100 healty people the machine(which test if you have Swine influenza) will say that: 1 person is sick and 99 are healty\n",
    "- Out of 100 sick people the machine will say 100 are sick\n",
    "\n",
    "Were going to use Bayes Rule to answer the question\n",
    "\n",
    "$P(sick/pos) = \\frac{P(pos/sick)*P(sick)}{P(pos)}$\n",
    "\n",
    "- sick - this person is sick\n",
    "- pos - the machine said this person is sick\n",
    "- healthy - this person is healthy\n",
    "\n",
    "$P(pos/sick) = 1$ if you are sick the machine always will say you are sick ,fact #3\n",
    "\n",
    "$P(sick) = \\frac{1}{10000}$ - fact #1\n",
    "\n",
    "$P(pos) = P(pos/sick)P(sick) + P(pos/healthy)P(healthy) = 1*\\frac{1}{10000} + 0.01*(1-\\frac{1}{10000}) = 0.01009$\n",
    "\n",
    "$P(sick/pos) = \\frac{P(pos/sick)*P(sick)}{P(pos)} = \\frac{1*\\frac{1}{10000}}{0.01009} = 0.0099$\n",
    "\n",
    "\n",
    "**Question 3b:**what is the probality you have Swine influenza\n",
    "\n",
    "**Given Facts**\n",
    "- (NEW)The probabilty somone random is sick is 1 in 200, $P(sick) = \\frac{1}{10000}$\n",
    "- Out of 100 healty people the machine(which test if you have Swine influenza) will say that: 1 person is sick and 99 are healty\n",
    "- Out of 100 sick people the machine will say 100 are sick\n",
    "\n",
    "Were going to use Bayes Rule to answer the question\n",
    "\n",
    "$P(sick/pos) = \\frac{P(pos/sick)*P(sick)}{P(pos)}$\n",
    "\n",
    "$P(pos/sick) = 1$ if you are sick the machine always will say you are sick ,fact #3\n",
    "\n",
    "$P(sick) = \\frac{1}{200}$ - fact #1\n",
    "\n",
    "$P(pos) = P(pos/sick)P(sick) + P(pos/healthy)P(healthy) = 1*\\frac{1}{200} + 0.01*(1-\\frac{1}{200}) = 0.344$\n",
    "\n",
    "$P(sick/pos) = \\frac{P(pos/sick)*P(sick)}{P(pos)} = \\frac{1*\\frac{1}{200}}{0.01009} = 0.01495$\n"
   ]
  },
  {
   "cell_type": "markdown",
   "metadata": {},
   "source": [
    "## Random Variables:\n",
    "\n",
    "**Need to know:**<br>\n",
    "E(X) = expected value of X = Mean = μ<br>\n",
    "Var(X) = Variance of X<br>\n",
    "Std(X) = Standard deviation = σ"
   ]
  },
  {
   "cell_type": "markdown",
   "metadata": {},
   "source": [
    "### Question 1:\n",
    "\n",
    "\n",
    "*Roi is playing a dice game with Yael.\n",
    "Roi will roll 2 six-sided dice, and if the sum of the dice is divisible by 3, he will win 6USD. \n",
    "If the sum is not divisible by 3, he will lose 3USD.*\n",
    "\n",
    "\n",
    "**What is Roi’s expected value of playing this game?**\n",
    "\n",
    "Answer:\n"
   ]
  },
  {
   "cell_type": "markdown",
   "metadata": {},
   "source": [
    "   *X = sum of dice is divisible by 3*\n",
    "    \n",
    "| Earning | Numbers | Probality |\n",
    "| --- | --- | --- |\n",
    "|  6 | {3,6,9,12} | P(X)=$\\frac{1}{3}$|\n",
    "| -3 |{1,2,4,5,7,8,10,11}|1-P(X)=$\\frac{2}{3}$| \n",
    "\n",
    "*(x,y)  ,x= first die, y= second die*\n",
    "<p>P(X)= P(3) + P(6) +P(9)+P(12) = $\\frac{(2+5+4+1)}{36}$= $\\frac{12}{36}$ = $\\frac{1}{3}$<br>P(3) = $\\frac{{(1,2),(2,1)}}{36}$ = $\\frac{2}{36}$<br>P(6) = $\\frac{{(1,5),(5,1),(2,4),(4,2),(3,3)}}{36}$=$\\frac{5}{36}$ <br>P(9)= $\\frac{{(3,6),(6,3),(4,5),(5,4)}}{36}$ = $\\frac{4}{36}$<br>P(12) = $\\frac{{(6,6)}}{36}$= $\\frac{1}{36}$<p>E(X)=6*$\\frac{1}{3} + (-3)*\\frac{2}{3}$ = 0"
   ]
  },
  {
   "cell_type": "markdown",
   "metadata": {},
   "source": [
    "### Question 2:\n",
    "\n",
    "*Sharon has challenged Alex to a round of Marker Mixup. Marker Mixup is a game where \n",
    "there is a bag of 5 red markers numbered 1 through 5, and another bag with 5 green \n",
    "markers numbered 6 through 10.\n",
    "Alex will grab 1 marker from each bag, and if the 2 markers add up to more than 12, he will \n",
    "win 5USD, 5. If the sum is exactly 12, he will break even, and If the sum is less than 12, he will \n",
    "lose 6USD.*\n",
    "\n",
    "**What is Alex's expected value of playing Marker Mixup?**\n",
    "\n",
    "Answer:"
   ]
  },
  {
   "cell_type": "markdown",
   "metadata": {},
   "source": [
    "*X = the Reward/Loss of a Game of Marker Mixup*\n",
    "\n",
    "| X | P(X) |\n",
    "| --- | --- |\n",
    "| 5 | $\\frac{6}{25}$ |\n",
    "| 0 | $\\frac{4}{25}$ |\n",
    "| -6 | $\\frac{15}{25}$ |\n",
    "\n",
    "*(x,y): (marker number x of the first bag,marker number y of the second bag)*<p>P(5) = $\\frac{(3,10),(4,9),(4,10),(5,8),(5,9),(5,10)}{25}$= $\\frac{6}{25}$, To win the sum of x,y has to be above 12<br>P(0) = $\\frac{(2,10),(3,9),(4,8),(5,7)}{25}$= $\\frac{4}{25}$, It is even if the sum of x,y is exactly 12<br>P(-6) = 1- (P(5)+P(0)) = $1-(\\frac{6}{25}+\\frac{4}{25})$ = $\\frac{15}{25}$, The only posibility left is the posibility to lose<p>E(X)= $5*\\frac{6}{25} + 0*\\frac{4}{25} + (-6)*\\frac{15}{25} = 1.2-3.6 = -2,4$"
   ]
  },
  {
   "cell_type": "markdown",
   "metadata": {},
   "source": [
    "### Question 3:\n",
    "\n",
    "*A division of a company has 200 employees, 40%, percent of which are male. Each month, \n",
    "the company randomly selects 8 of these employees to have lunch with the CEO.*\n",
    "\n",
    "**What are the mean and standard deviation of the number of males selected each\n",
    "month?**\n",
    "\n",
    "Answer:"
   ]
  },
  {
   "cell_type": "markdown",
   "metadata": {},
   "source": [
    "- Number of Males = 80 = 200*0.4\n",
    "- Number of Females = 120 = 200-80\n",
    "\n",
    "$\\begin{pmatrix} 500 \\\\ 4 \\end{pmatrix}$\n",
    "\\frac{23}{75}\n",
    "\n",
    "*X = number of males invited to have lunch with the CEO*\n",
    "\n",
    "*A = number of possibilities to choose X males out of 8 emplyoees = number of possibilities to choose X males out 80 males*number of possibilities to choose 8-X females out of 120 females = $\\begin{pmatrix} 80 \\\\ X \\end{pmatrix}*\\begin{pmatrix} 120 \\\\ 8-X \\end{pmatrix}$*\n",
    "\n",
    "*B = number of possibilities to choose 8 emplyoees out of 200 emplyoees = $\\begin{pmatrix} 200 \\\\ 8 \\end{pmatrix}$*\n",
    "\n",
    "$P(0) = \\frac{\\begin{pmatrix} 80 \\\\ 0 \\end{pmatrix}*\\begin{pmatrix} 120 \\\\ 8 \\end{pmatrix}}{\\begin{pmatrix} 200 \\\\ 8 \\end{pmatrix}} = 0.0152$\n",
    "\n",
    "$P(1) = \\frac{\\begin{pmatrix} 80 \\\\ 1 \\end{pmatrix}*\\begin{pmatrix} 120 \\\\ 7 \\end{pmatrix}}{\\begin{pmatrix} 200 \\\\ 8 \\end{pmatrix}} = 0.0863$\n",
    "\n",
    "$P(2) = \\frac{\\begin{pmatrix} 80 \\\\ 2 \\end{pmatrix}*\\begin{pmatrix} 120 \\\\ 6 \\end{pmatrix}}{\\begin{pmatrix} 200 \\\\ 8 \\end{pmatrix}} = 0.2094$\n",
    "\n",
    "$P(3) = \\frac{\\begin{pmatrix} 80 \\\\ 3 \\end{pmatrix}*\\begin{pmatrix} 120 \\\\ 5 \\end{pmatrix}}{\\begin{pmatrix} 200 \\\\ 8 \\end{pmatrix}} = 0.2841$\n",
    "\n",
    "$P(4) = \\frac{\\begin{pmatrix} 80 \\\\ 4 \\end{pmatrix}*\\begin{pmatrix} 120 \\\\ 4 \\end{pmatrix}}{\\begin{pmatrix} 200 \\\\ 8 \\end{pmatrix}} = 0.2357$\n",
    "\n",
    "$P(5) = \\frac{\\begin{pmatrix} 80 \\\\ 5 \\end{pmatrix}*\\begin{pmatrix} 120 \\\\ 3 \\end{pmatrix}}{\\begin{pmatrix} 200 \\\\ 8 \\end{pmatrix}} = 0.1225$\n",
    "\n",
    "$P(6) = \\frac{\\begin{pmatrix} 80 \\\\ 6 \\end{pmatrix}*\\begin{pmatrix} 120 \\\\ 2 \\end{pmatrix}}{\\begin{pmatrix} 200 \\\\ 8 \\end{pmatrix}} = 0.0389$\n",
    "\n",
    "$P(7) = \\frac{\\begin{pmatrix} 80 \\\\ 7 \\end{pmatrix}*\\begin{pmatrix} 120 \\\\ 1 \\end{pmatrix}}{\\begin{pmatrix} 200 \\\\ 8 \\end{pmatrix}} = 0.0069$\n",
    "\n",
    "$P(8) = \\frac{\\begin{pmatrix} 80 \\\\ 8 \\end{pmatrix}*\\begin{pmatrix} 120 \\\\ 0 \\end{pmatrix}}{\\begin{pmatrix} 200 \\\\ 8 \\end{pmatrix}} = 0.0005$\n",
    "\n",
    "Mean μ = $E(X) = 0*0.0152 + 1*0.0863 + 2*0.2094 + 3*0.2841 + 4*0.2357 + 5*0.1225 + 6*0.0389 + 7*0.0069 + 8*0.0005 = 3.2344$\n",
    "\n",
    "Variance = $Var(X) = (0-3.2344)^2*0.0152 + (1-3.2344)^2*0.0863 + (2-3.2344)^2*0.2094 +$<br>$ (3-3.2344)^2*0.2841 + (4-3.2344)^2*0.2357 + (5-3.2344)^2*0.1225 + (6-3.2344)^2*0.0389 +$<br>$ (7-3.2344)^2*0.0069 + (8-3.2344)^2*0.0005$<br>$ = 1.8513$\n",
    "\n",
    "Standard deviation σ = $\\sqrt{Var(X)} = \\sqrt{1.8513} = 1.361$"
   ]
  },
  {
   "cell_type": "markdown",
   "metadata": {},
   "source": [
    "### Question 4:\n",
    "\n",
    "*Different dealers may sell the same car for different prices. The sale prices for a particular \n",
    "car are normally distributed with a mean and standard deviation of 26,000 USD and 2,000 USD, \n",
    "respectively. Suppose we select one of these cars at random. Let X = the sale price (in \n",
    "thousands of dollars) for the selected car.*\n",
    "\n",
    "**Find P(26<X<30)**\n",
    "\n",
    "Answer:"
   ]
  },
  {
   "cell_type": "markdown",
   "metadata": {},
   "source": [
    "![](pictures/Capture_3.png)\n",
    "<p>Mean = μ = 26 Thousand USD<br>Std = σ = 2 Thousand USD <p>we can calculate it using z-scores and the right z-table <br>P($k_1<X<k_2$) =$P(\\frac{k_1-Mean}{Std}<z<\\frac{k_2 - Mean}{Std})$<br>P($26<X<30$) =$P(\\frac{20-Mean}{Std}<z<\\frac{30 - Mean}{Std})= P(\\frac{26-26}{2}<z<\\frac{30-26}{2}) = P(z<2)=0.4772$"
   ]
  },
  {
   "cell_type": "markdown",
   "metadata": {},
   "source": [
    "### Question 5:\n",
    "\n",
    "*Given the following distribution*\n",
    "\n",
    "![](pictures/Capture_1.png)\n",
    "\n",
    "**what is P(x>3)?**"
   ]
  },
  {
   "cell_type": "markdown",
   "metadata": {},
   "source": [
    "<p>P(X>3) Is the area under the curve from 3 but the curve ends at 5. so we have calcuate the triangle from 3 -> 5 with a height of 0.4<br>P(X>3)= $\\frac{0.4*(5-3)}{2}$ = $\\frac{0.8}{2}$ = 0.4<p>"
   ]
  },
  {
   "cell_type": "markdown",
   "metadata": {},
   "source": [
    "### Question 6:\n",
    "\n",
    "*A company has 500 employees, and 60% of them have children. Suppose that we randomly \n",
    "select 4 of these employees.*\n",
    "\n",
    "**What is the probability that exactly 3 of the 4 employees selected have children?**\n",
    "\n",
    "Answer:"
   ]
  },
  {
   "cell_type": "markdown",
   "metadata": {},
   "source": [
    "*X = exactly 3 of the 4 employees selected have children*\n",
    "\n",
    "$\\begin{pmatrix} 500 \\\\ 4 \\end{pmatrix}$\n",
    "\n",
    "<p>The number of employees with children is 300 = 500*0.6<p><p>A = number of quadruples where exactly three have children =<br>\n",
    "   =number of possibilities to choose 3 out of 300 epmloyees<br>with children multiplicated with the number of possibilities to choose 1 out of 200 epmloyees without children= $\\begin{pmatrix} 300 \\\\ 3 \\end{pmatrix}*\\begin{pmatrix} 200 \\\\ 1 \\end{pmatrix}$<br>B= quadruples in total = number of possibilities to choose 4 out of 500 epmloyees = $\\begin{pmatrix} 500 \\\\ 4 \\end{pmatrix}$<p>P(X)=$\\frac{A}{B} = \\frac{\\begin{pmatrix} 300 \\\\ 3 \\end{pmatrix}*\\begin{pmatrix} 200 \\\\ 1 \\end{pmatrix}}{\\begin{pmatrix} 500 \\\\ 4 \\end{pmatrix}} = 0.346$"
   ]
  },
  {
   "cell_type": "markdown",
   "metadata": {},
   "source": [
    "### Question 7:\n",
    "\n",
    "*Look at the next Graph.*\n",
    "![Title](pictures/Capture_2.png)\n",
    "**What is the expected value of X?**"
   ]
  },
  {
   "cell_type": "markdown",
   "metadata": {},
   "source": [
    "| X | P(X) |\n",
    "| --- | --- |\n",
    "| -10 | 0.1 |\n",
    "| -5 | 0.35 |\n",
    "| 0 | 0.1 |\n",
    "| 5 | 0.35 |\n",
    "| 10 | 0.1 |\n",
    "\n",
    "E(X) = $-10*0.1 -5*0.35 + 0*0.1+5*0.35+10*0.1$ = -1-1.75+1.75+1 = 0"
   ]
  }
 ],
 "metadata": {
  "kernelspec": {
   "display_name": "Python 3",
   "language": "python",
   "name": "python3"
  },
  "language_info": {
   "codemirror_mode": {
    "name": "ipython",
    "version": 3
   },
   "file_extension": ".py",
   "mimetype": "text/x-python",
   "name": "python",
   "nbconvert_exporter": "python",
   "pygments_lexer": "ipython3",
   "version": "3.8.5"
  }
 },
 "nbformat": 4,
 "nbformat_minor": 4
}
